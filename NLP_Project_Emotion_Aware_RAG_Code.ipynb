{
  "cells": [
    {
      "cell_type": "markdown",
      "source": [
        "NLP Project : Emotion-Aware Retrieval-Augmented Generation for Mental Health Support from Reddit Posts\n",
        "\n",
        "\n",
        "By Sai Siddu, Vinay, Umair"
      ],
      "metadata": {
        "id": "E3o_AJATpxh0"
      },
      "id": "E3o_AJATpxh0"
    },
    {
      "cell_type": "code",
      "execution_count": 1,
      "id": "0d7dc476",
      "metadata": {
        "colab": {
          "base_uri": "https://localhost:8080/"
        },
        "id": "0d7dc476",
        "outputId": "85d0ca6f-e6fb-4ada-ffac-bb2d29391b10"
      },
      "outputs": [
        {
          "output_type": "stream",
          "name": "stdout",
          "text": [
            "Requirement already satisfied: faiss-cpu in /usr/local/lib/python3.11/dist-packages (1.10.0)\n",
            "Requirement already satisfied: numpy<3.0,>=1.25.0 in /usr/local/lib/python3.11/dist-packages (from faiss-cpu) (2.0.2)\n",
            "Requirement already satisfied: packaging in /usr/local/lib/python3.11/dist-packages (from faiss-cpu) (24.2)\n",
            "Requirement already satisfied: rouge-score in /usr/local/lib/python3.11/dist-packages (0.1.2)\n",
            "Requirement already satisfied: absl-py in /usr/local/lib/python3.11/dist-packages (from rouge-score) (1.4.0)\n",
            "Requirement already satisfied: nltk in /usr/local/lib/python3.11/dist-packages (from rouge-score) (3.9.1)\n",
            "Requirement already satisfied: numpy in /usr/local/lib/python3.11/dist-packages (from rouge-score) (2.0.2)\n",
            "Requirement already satisfied: six>=1.14.0 in /usr/local/lib/python3.11/dist-packages (from rouge-score) (1.17.0)\n",
            "Requirement already satisfied: click in /usr/local/lib/python3.11/dist-packages (from nltk->rouge-score) (8.1.8)\n",
            "Requirement already satisfied: joblib in /usr/local/lib/python3.11/dist-packages (from nltk->rouge-score) (1.4.2)\n",
            "Requirement already satisfied: regex>=2021.8.3 in /usr/local/lib/python3.11/dist-packages (from nltk->rouge-score) (2024.11.6)\n",
            "Requirement already satisfied: tqdm in /usr/local/lib/python3.11/dist-packages (from nltk->rouge-score) (4.67.1)\n"
          ]
        },
        {
          "output_type": "stream",
          "name": "stderr",
          "text": [
            "[nltk_data] Downloading package punkt to /root/nltk_data...\n",
            "[nltk_data]   Package punkt is already up-to-date!\n"
          ]
        },
        {
          "output_type": "stream",
          "name": "stdout",
          "text": [
            "Original DataFrame Loaded: (20, 10)\n",
            "Filtered and Preprocessed DataFrame: (17, 11)\n",
            "      subreddit                                  processed_comment\n",
            "0    depression  i've been feeling extremely depressed lately a...\n",
            "1       anxiety  my anxiety is through the roof today. i can't ...\n",
            "3       anxiety  had a panic attack at work today and had to le...\n",
            "4  mentalhealth  finally had a good therapy session today. star...\n",
            "5  SuicideWatch  the suicidal thoughts are getting stronger. i ...\n"
          ]
        }
      ],
      "source": [
        "\n",
        "import torch\n",
        "import pandas as pd\n",
        "import numpy as np\n",
        "import nltk\n",
        "from sklearn.metrics import accuracy_score, f1_score\n",
        "from nltk.tokenize import word_tokenize\n",
        "from sentence_transformers import SentenceTransformer\n",
        "from transformers import (\n",
        "    AutoTokenizer, AutoModelForSequenceClassification,\n",
        "    AutoModelForCausalLM, BitsAndBytesConfig\n",
        ")\n",
        "!pip install faiss-cpu\n",
        "import faiss\n",
        "!pip install rouge-score\n",
        "from rouge_score import rouge_scorer\n",
        "\n",
        "nltk.download('punkt')\n",
        "\n",
        "# Loading dataset\n",
        "df = pd.read_excel('/content/mental_health_posts.xlsx')\n",
        "print(\"Original DataFrame Loaded:\", df.shape)\n",
        "\n",
        "# Preprocessing\n",
        "def preprocess_text(text):\n",
        "    if not isinstance(text, str):\n",
        "        return \"\"\n",
        "    return ' '.join(text.lower().replace('\\n', ' ').replace('\\r', '').split())\n",
        "\n",
        "df['processed_comment'] = df['comment'].apply(preprocess_text)\n",
        "df = df[df['subreddit'].str.lower().isin(['depression', 'anxiety', 'suicidewatch', 'mentalhealth'])]\n",
        "print(\"Filtered and Preprocessed DataFrame:\", df.shape)\n",
        "print(df[['subreddit', 'processed_comment']].head())\n"
      ]
    },
    {
      "cell_type": "code",
      "execution_count": 2,
      "id": "452df4b5",
      "metadata": {
        "colab": {
          "base_uri": "https://localhost:8080/"
        },
        "id": "452df4b5",
        "outputId": "cbb706c6-2f19-411a-8487-cbaa55822d72"
      },
      "outputs": [
        {
          "output_type": "stream",
          "name": "stderr",
          "text": [
            "/usr/local/lib/python3.11/dist-packages/huggingface_hub/utils/_auth.py:94: UserWarning: \n",
            "The secret `HF_TOKEN` does not exist in your Colab secrets.\n",
            "To authenticate with the Hugging Face Hub, create a token in your settings tab (https://huggingface.co/settings/tokens), set it as secret in your Google Colab and restart your session.\n",
            "You will be able to reuse this secret in all of your notebooks.\n",
            "Please note that authentication is recommended but still optional to access public models or datasets.\n",
            "  warnings.warn(\n"
          ]
        },
        {
          "output_type": "stream",
          "name": "stdout",
          "text": [
            "Sample: I feel empty and lost.\n",
            "Predicted Emotion: sadness (Confidence: 0.94)\n"
          ]
        }
      ],
      "source": [
        "\n",
        "emotion_tokenizer = AutoTokenizer.from_pretrained(\"SamLowe/roberta-base-go_emotions\")\n",
        "emotion_model = AutoModelForSequenceClassification.from_pretrained(\"SamLowe/roberta-base-go_emotions\")\n",
        "\n",
        "emotion_labels = [\n",
        "    'admiration','amusement','anger','annoyance','approval','caring','confusion',\n",
        "    'curiosity','desire','disappointment','disapproval','disgust','embarrassment',\n",
        "    'excitement','fear','gratitude','grief','joy','love','nervousness','optimism',\n",
        "    'pride','realization','relief','remorse','sadness','surprise','neutral'\n",
        "]\n",
        "\n",
        "def classify_emotion(text):\n",
        "    inputs = emotion_tokenizer(text, return_tensors=\"pt\", truncation=True, max_length=512)\n",
        "    outputs = emotion_model(**inputs)\n",
        "    probs = torch.nn.functional.softmax(outputs.logits, dim=-1)\n",
        "    top_prob, top_label = torch.max(probs, dim=1)\n",
        "    return emotion_labels[top_label], top_prob.item()\n",
        "\n",
        "sample_text = \"I feel empty and lost.\"\n",
        "emotion, confidence = classify_emotion(sample_text)\n",
        "print(f\"Sample: {sample_text}\\nPredicted Emotion: {emotion} (Confidence: {confidence:.2f})\")\n"
      ]
    },
    {
      "cell_type": "code",
      "execution_count": 3,
      "id": "bf48f4f2",
      "metadata": {
        "colab": {
          "base_uri": "https://localhost:8080/"
        },
        "id": "bf48f4f2",
        "outputId": "f9b2211a-7c19-4628-ac25-37646cabb606"
      },
      "outputs": [
        {
          "output_type": "stream",
          "name": "stdout",
          "text": [
            "Sample embedding shape: (384,)\n",
            "FAISS Index created with dimension: 384\n"
          ]
        }
      ],
      "source": [
        "\n",
        "embedding_model = SentenceTransformer('all-MiniLM-L6-v2')\n",
        "df['embedding'] = df['processed_comment'].apply(lambda x: embedding_model.encode(x, convert_to_numpy=True))\n",
        "print(\"Sample embedding shape:\", df['embedding'].iloc[0].shape)\n",
        "\n",
        "embedding_matrix = np.vstack(df['embedding'].values)\n",
        "dimension = embedding_matrix.shape[1]\n",
        "index = faiss.IndexFlatL2(dimension)\n",
        "index.add(embedding_matrix)\n",
        "print(\"FAISS Index created with dimension:\", dimension)\n"
      ]
    },
    {
      "cell_type": "code",
      "execution_count": 4,
      "id": "r57Kxf6-msRd",
      "metadata": {
        "colab": {
          "base_uri": "https://localhost:8080/"
        },
        "id": "r57Kxf6-msRd",
        "outputId": "3ae0b3d6-fb26-4496-a156-31ef85bc1dc3"
      },
      "outputs": [
        {
          "output_type": "stream",
          "name": "stdout",
          "text": [
            "Requirement already satisfied: bitsandbytes in /usr/local/lib/python3.11/dist-packages (0.45.5)\n",
            "Requirement already satisfied: torch<3,>=2.0 in /usr/local/lib/python3.11/dist-packages (from bitsandbytes) (2.6.0+cu124)\n",
            "Requirement already satisfied: numpy>=1.17 in /usr/local/lib/python3.11/dist-packages (from bitsandbytes) (2.0.2)\n",
            "Requirement already satisfied: filelock in /usr/local/lib/python3.11/dist-packages (from torch<3,>=2.0->bitsandbytes) (3.18.0)\n",
            "Requirement already satisfied: typing-extensions>=4.10.0 in /usr/local/lib/python3.11/dist-packages (from torch<3,>=2.0->bitsandbytes) (4.13.2)\n",
            "Requirement already satisfied: networkx in /usr/local/lib/python3.11/dist-packages (from torch<3,>=2.0->bitsandbytes) (3.4.2)\n",
            "Requirement already satisfied: jinja2 in /usr/local/lib/python3.11/dist-packages (from torch<3,>=2.0->bitsandbytes) (3.1.6)\n",
            "Requirement already satisfied: fsspec in /usr/local/lib/python3.11/dist-packages (from torch<3,>=2.0->bitsandbytes) (2025.3.2)\n",
            "Requirement already satisfied: nvidia-cuda-nvrtc-cu12==12.4.127 in /usr/local/lib/python3.11/dist-packages (from torch<3,>=2.0->bitsandbytes) (12.4.127)\n",
            "Requirement already satisfied: nvidia-cuda-runtime-cu12==12.4.127 in /usr/local/lib/python3.11/dist-packages (from torch<3,>=2.0->bitsandbytes) (12.4.127)\n",
            "Requirement already satisfied: nvidia-cuda-cupti-cu12==12.4.127 in /usr/local/lib/python3.11/dist-packages (from torch<3,>=2.0->bitsandbytes) (12.4.127)\n",
            "Requirement already satisfied: nvidia-cudnn-cu12==9.1.0.70 in /usr/local/lib/python3.11/dist-packages (from torch<3,>=2.0->bitsandbytes) (9.1.0.70)\n",
            "Requirement already satisfied: nvidia-cublas-cu12==12.4.5.8 in /usr/local/lib/python3.11/dist-packages (from torch<3,>=2.0->bitsandbytes) (12.4.5.8)\n",
            "Requirement already satisfied: nvidia-cufft-cu12==11.2.1.3 in /usr/local/lib/python3.11/dist-packages (from torch<3,>=2.0->bitsandbytes) (11.2.1.3)\n",
            "Requirement already satisfied: nvidia-curand-cu12==10.3.5.147 in /usr/local/lib/python3.11/dist-packages (from torch<3,>=2.0->bitsandbytes) (10.3.5.147)\n",
            "Requirement already satisfied: nvidia-cusolver-cu12==11.6.1.9 in /usr/local/lib/python3.11/dist-packages (from torch<3,>=2.0->bitsandbytes) (11.6.1.9)\n",
            "Requirement already satisfied: nvidia-cusparse-cu12==12.3.1.170 in /usr/local/lib/python3.11/dist-packages (from torch<3,>=2.0->bitsandbytes) (12.3.1.170)\n",
            "Requirement already satisfied: nvidia-cusparselt-cu12==0.6.2 in /usr/local/lib/python3.11/dist-packages (from torch<3,>=2.0->bitsandbytes) (0.6.2)\n",
            "Requirement already satisfied: nvidia-nccl-cu12==2.21.5 in /usr/local/lib/python3.11/dist-packages (from torch<3,>=2.0->bitsandbytes) (2.21.5)\n",
            "Requirement already satisfied: nvidia-nvtx-cu12==12.4.127 in /usr/local/lib/python3.11/dist-packages (from torch<3,>=2.0->bitsandbytes) (12.4.127)\n",
            "Requirement already satisfied: nvidia-nvjitlink-cu12==12.4.127 in /usr/local/lib/python3.11/dist-packages (from torch<3,>=2.0->bitsandbytes) (12.4.127)\n",
            "Requirement already satisfied: triton==3.2.0 in /usr/local/lib/python3.11/dist-packages (from torch<3,>=2.0->bitsandbytes) (3.2.0)\n",
            "Requirement already satisfied: sympy==1.13.1 in /usr/local/lib/python3.11/dist-packages (from torch<3,>=2.0->bitsandbytes) (1.13.1)\n",
            "Requirement already satisfied: mpmath<1.4,>=1.1.0 in /usr/local/lib/python3.11/dist-packages (from sympy==1.13.1->torch<3,>=2.0->bitsandbytes) (1.3.0)\n",
            "Requirement already satisfied: MarkupSafe>=2.0 in /usr/local/lib/python3.11/dist-packages (from jinja2->torch<3,>=2.0->bitsandbytes) (3.0.2)\n"
          ]
        }
      ],
      "source": [
        "!pip install -U bitsandbytes"
      ]
    },
    {
      "cell_type": "code",
      "execution_count": 5,
      "id": "9d3bfb4c",
      "metadata": {
        "colab": {
          "base_uri": "https://localhost:8080/",
          "height": 248,
          "referenced_widgets": [
            "f06cbcfb821d4709bbfccadc9343ffa9",
            "8386ada0943644909ec5b8c726b36b6e",
            "61fb7a36fd7f4004bf6a575d3fa9fda4",
            "3a202021df404c88855102b5ec0ef575",
            "32d69029e4c543829bb294b33ab33d05",
            "43513c7e58e7484eb537840f1c3508b3",
            "3718ec01acfb48718f5acbf26723e826",
            "cad019ac122548968df4e2048405ca51",
            "795c0b6d7cd64f33b1912d43930921f3",
            "380cb18ccc28437193ec5bb4f5cfef02",
            "e825efea5a0a46ac8897c81d0484abf8"
          ]
        },
        "id": "9d3bfb4c",
        "outputId": "5e7a0ba0-9bd3-4167-d1de-50305ba70b5f"
      },
      "outputs": [
        {
          "output_type": "display_data",
          "data": {
            "text/plain": [
              "Loading checkpoint shards:   0%|          | 0/2 [00:00<?, ?it/s]"
            ],
            "application/vnd.jupyter.widget-view+json": {
              "version_major": 2,
              "version_minor": 0,
              "model_id": "f06cbcfb821d4709bbfccadc9343ffa9"
            }
          },
          "metadata": {}
        },
        {
          "output_type": "stream",
          "name": "stdout",
          "text": [
            "Query: I'm really anxious and can't stop overthinking.\n",
            "Predicted Emotion: nervousness\n",
            "\n",
            "Response:\n",
            "You are a mental health assistant. The user feels nervousness.\n",
            "Context: my anxiety is through the roof today. i can't stop worrying about everything.\n",
            "had a breakdown in the grocery store. anxiety makes everyday tasks feel impossible.\n",
            "my therapist canceled last minute and now i'm spiraling. don't know how to cope.\n",
            "User: I'm really anxious and can't stop overthinking.\n",
            "Respond empathetically. I'm truly sorry to hear that you're going through such a tough time. It's completely understandable to feel overwhelmed when anxiety makes even routine tasks seem daunting. Remember, it's okay to take a moment for yourself. Try some deep breathing or mindfulness exercises to help ground you in the present. If you feel up to it, perhaps engage in a small, manageable task, and don't hesitate to reach out for support, whether it's from your friends, family, or a healthcare professional. You don't have to face this alone.\n"
          ]
        }
      ],
      "source": [
        "\n",
        "def retrieve_similar_posts(query, k=3):\n",
        "    query_embedding = embedding_model.encode(query)\n",
        "    distances, indices = index.search(np.array([query_embedding]), k)\n",
        "    return [df.iloc[i] for i in indices[0]]\n",
        "\n",
        "quant_config = BitsAndBytesConfig(\n",
        "    load_in_4bit=True,\n",
        "    bnb_4bit_compute_dtype=torch.float16,\n",
        "    bnb_4bit_quant_type=\"nf4\",\n",
        "    bnb_4bit_use_double_quant=True,\n",
        ")\n",
        "\n",
        "phi_tokenizer = AutoTokenizer.from_pretrained(\"microsoft/phi-3-mini-4k-instruct\")\n",
        "phi_model = AutoModelForCausalLM.from_pretrained(\n",
        "    \"microsoft/phi-3-mini-4k-instruct\",\n",
        "    device_map=\"auto\",\n",
        "    quantization_config=quant_config\n",
        ")\n",
        "\n",
        "def generate_response_with_rag(query, temperature=0.7, max_new_tokens=256):\n",
        "    retrieved = retrieve_similar_posts(query)\n",
        "    context = \"\\n\".join([f\"{r['processed_comment']}\" for r in retrieved])\n",
        "    emotion, _ = classify_emotion(query)\n",
        "\n",
        "    prompt = f\"\"\"<|system|>You are a mental health assistant. The user feels {emotion}.\n",
        "Context: {context}\n",
        "User: {query}\n",
        "Respond empathetically.<|end|><|assistant|>\"\"\"\n",
        "\n",
        "    inputs = phi_tokenizer(prompt, return_tensors=\"pt\").to(\"cuda\")\n",
        "    output = phi_model.generate(\n",
        "        **inputs,\n",
        "        max_new_tokens=max_new_tokens,\n",
        "        temperature=temperature,\n",
        "        do_sample=True,\n",
        "        pad_token_id=phi_tokenizer.eos_token_id\n",
        "    )\n",
        "    decoded = phi_tokenizer.decode(output[0], skip_special_tokens=True)\n",
        "    return decoded.split(\"<|assistant|>\")[-1].strip(), emotion\n",
        "\n",
        "# Test query\n",
        "query = \"I'm really anxious and can't stop overthinking.\"\n",
        "response, emotion = generate_response_with_rag(query)\n",
        "print(f\"Query: {query}\\nPredicted Emotion: {emotion}\\n\\nResponse:\\n{response}\")\n"
      ]
    },
    {
      "cell_type": "code",
      "execution_count": 6,
      "id": "2c1e614c",
      "metadata": {
        "colab": {
          "base_uri": "https://localhost:8080/"
        },
        "id": "2c1e614c",
        "outputId": "9358dbea-c04f-405e-d709-148b93d1feec"
      },
      "outputs": [
        {
          "output_type": "stream",
          "name": "stdout",
          "text": [
            "Evaluation Metrics (vs reference): {'rouge1': 0.13636363636363635, 'rouge2': 0.06896551724137931, 'rougeL': 0.10227272727272727, 'bleu': 2.411764705882353}\n"
          ]
        },
        {
          "output_type": "stream",
          "name": "stderr",
          "text": [
            "[nltk_data] Downloading package punkt to /root/nltk_data...\n",
            "[nltk_data]   Package punkt is already up-to-date!\n",
            "[nltk_data] Downloading package punkt_tab to /root/nltk_data...\n",
            "[nltk_data]   Package punkt_tab is already up-to-date!\n"
          ]
        }
      ],
      "source": [
        "\n",
        "def evaluate_emotion_detection(true_labels, pred_labels):\n",
        "    return {\n",
        "        'accuracy': accuracy_score(true_labels, pred_labels),\n",
        "        'f1_score': f1_score(true_labels, pred_labels, average='weighted')\n",
        "    }\n",
        "\n",
        "import nltk\n",
        "nltk.download('punkt')\n",
        "nltk.download('punkt_tab')\n",
        "def evaluate_response_quality(reference, candidate):\n",
        "    scorer = rouge_scorer.RougeScorer(['rouge1', 'rouge2', 'rougeL'], use_stemmer=True)\n",
        "    rouge_scores = scorer.score(reference, candidate)\n",
        "    reference_tokens = word_tokenize(reference.lower())\n",
        "    candidate_tokens = word_tokenize(candidate.lower())\n",
        "    matches = sum(1 for word in candidate_tokens if word in reference_tokens)\n",
        "    bleu = matches / len(reference_tokens) if reference_tokens else 0\n",
        "    return {\n",
        "        'rouge1': rouge_scores['rouge1'].fmeasure,\n",
        "        'rouge2': rouge_scores['rouge2'].fmeasure,\n",
        "        'rougeL': rouge_scores['rougeL'].fmeasure,\n",
        "        'bleu': bleu\n",
        "    }\n",
        "\n",
        "# Example Evaluation\n",
        "reference = \"It's okay to feel anxious sometimes. Try taking deep breaths or journaling your thoughts.\"\n",
        "candidate = response\n",
        "metrics = evaluate_response_quality(reference, candidate)\n",
        "print(\"Evaluation Metrics (vs reference):\", metrics)\n"
      ]
    },
    {
      "cell_type": "code",
      "execution_count": 7,
      "id": "abe25VA-o5ix",
      "metadata": {
        "id": "abe25VA-o5ix"
      },
      "outputs": [],
      "source": [
        "def generate_response_with_rag(query, temperature=0.7, max_new_tokens=256):\n",
        "    retrieved = retrieve_similar_posts(query)\n",
        "    context = \"\\n\".join([f\"{r['processed_comment']}\" for r in retrieved])\n",
        "    emotion, _ = classify_emotion(query)\n",
        "\n",
        "    prompt = f\"\"\"<|system|>You are a mental health assistant. The user feels {emotion}.\n",
        "Context: {context}\n",
        "User: {query}\n",
        "Respond empathetically.<|end|><|assistant|>\"\"\"\n",
        "\n",
        "    inputs = phi_tokenizer(prompt, return_tensors=\"pt\").to(\"cuda\")\n",
        "    output = phi_model.generate(\n",
        "        **inputs,\n",
        "        max_new_tokens=max_new_tokens,\n",
        "        temperature=temperature,\n",
        "        do_sample=True,\n",
        "        pad_token_id=phi_tokenizer.eos_token_id\n",
        "    )\n",
        "    decoded = phi_tokenizer.decode(output[0], skip_special_tokens=True)\n",
        "    # Return retrieved posts along with response and emotion\n",
        "    return decoded.split(\"<|assistant|>\")[-1].strip(), retrieved, emotion"
      ]
    },
    {
      "cell_type": "code",
      "execution_count": 8,
      "id": "e944c89f",
      "metadata": {
        "colab": {
          "base_uri": "https://localhost:8080/",
          "height": 1000
        },
        "id": "e944c89f",
        "outputId": "a3ccbfa1-46f6-49a7-dc0d-d34c9a5a5b55"
      },
      "outputs": [
        {
          "output_type": "stream",
          "name": "stdout",
          "text": [
            "\n",
            "Evaluation Results:\n",
            "                                              query true_emotion pred_emotion  \\\n",
            "0  I've been feeling really afraid about my future.         fear         fear   \n",
            "1              Nothing brings me happiness anymore.      sadness      sadness   \n",
            "\n",
            "   emotion_accuracy  emotion_f1    rouge1    rouge2    rougeL      bleu  \\\n",
            "0               1.0         1.0  0.202899  0.191176  0.202899  2.625000   \n",
            "1               1.0         1.0  0.186528  0.178010  0.186528  2.631579   \n",
            "\n",
            "   precision@k  \n",
            "0     0.333333  \n",
            "1     0.333333  \n",
            "\n",
            "Average Metrics:\n",
            "emotion_accuracy    1.000000\n",
            "emotion_f1          1.000000\n",
            "rouge1              0.194714\n",
            "rouge2              0.184593\n",
            "rougeL              0.194714\n",
            "bleu                2.628289\n",
            "precision@k         0.333333\n",
            "dtype: float64\n"
          ]
        },
        {
          "output_type": "display_data",
          "data": {
            "text/plain": [
              "<Figure size 1000x500 with 1 Axes>"
            ],
            "image/png": "[encoded data removed]"
          },
          "metadata": {}
        },
        {
          "output_type": "display_data",
          "data": {
            "text/plain": [
              "<Figure size 1000x500 with 1 Axes>"
            ],
            "image/png": "[encoded data removed]"
          },
          "metadata": {}
        },
        {
          "output_type": "display_data",
          "data": {
            "text/plain": [
              "<Figure size 600x400 with 1 Axes>"
            ],
            "image/png": "[encoded data removed]"
          },
          "metadata": {}
        }
      ],
      "source": [
        "\n",
        "# Evaluation functions\n",
        "def evaluate_emotion_detection(true_labels, pred_labels):\n",
        "    \"\"\"Evaluate emotion detection performance\"\"\"\n",
        "    accuracy = accuracy_score(true_labels, pred_labels)\n",
        "    f1 = f1_score(true_labels, pred_labels, average='weighted')\n",
        "    return {'accuracy': accuracy, 'f1_score': f1}\n",
        "\n",
        "def evaluate_response_quality(reference, candidate):\n",
        "    \"\"\"Evaluate response quality using ROUGE and BLEU\"\"\"\n",
        "    scorer = rouge_scorer.RougeScorer(['rouge1', 'rouge2', 'rougeL'], use_stemmer=True)\n",
        "    rouge_scores = scorer.score(reference, candidate)\n",
        "\n",
        "    reference_tokens = word_tokenize(reference.lower())\n",
        "    candidate_tokens = word_tokenize(candidate.lower())\n",
        "\n",
        "    matches = sum(1 for word in candidate_tokens if word in reference_tokens)\n",
        "    bleu = matches / len(reference_tokens) if len(reference_tokens) > 0 else 0\n",
        "\n",
        "    return {'rouge1': rouge_scores['rouge1'].fmeasure,\n",
        "            'rouge2': rouge_scores['rouge2'].fmeasure,\n",
        "            'rougeL': rouge_scores['rougeL'].fmeasure,\n",
        "            'bleu': bleu}\n",
        "\n",
        "def evaluate_retrieval_quality(query, retrieved_posts, relevant_indices):\n",
        "    \"\"\"Evaluate retrieval quality using Precision@k\"\"\"\n",
        "    retrieved_indices = []\n",
        "    for post in retrieved_posts:\n",
        "        # Change 'text' to 'processed_comment'\n",
        "        match = df[df['processed_comment'] == post['processed_comment']]\n",
        "        if not match.empty:\n",
        "            retrieved_indices.append(match.index[0])\n",
        "\n",
        "    relevant_set = set(relevant_indices)\n",
        "    retrieved_set = set(retrieved_indices)\n",
        "\n",
        "    relevant_retrieved = len(relevant_set & retrieved_set)\n",
        "    precision = relevant_retrieved / len(retrieved_set) if len(retrieved_set) > 0 else 0\n",
        "\n",
        "    return {'precision@k': precision}\n",
        "\n",
        "# Evaluation Data\n",
        "eval_data = [\n",
        "    {\n",
        "        'query': \"I've been feeling really afraid about my future.\",\n",
        "        'true_emotion': 'fear',\n",
        "        'relevant_posts': [1, 3]\n",
        "    },\n",
        "    {\n",
        "        'query': \"Nothing brings me happiness anymore.\",\n",
        "        'true_emotion': 'sadness',\n",
        "        'relevant_posts': [0, 2]\n",
        "    }\n",
        "]\n",
        "\n",
        "# Run Evaluation\n",
        "results = []\n",
        "for item in eval_data:\n",
        "    response, retrieved_posts, pred_emotion = generate_response_with_rag(item['query'])\n",
        "\n",
        "    emotion_eval = evaluate_emotion_detection([item['true_emotion']], [pred_emotion])\n",
        "    reference_response = retrieved_posts[0]['processed_comment'] if retrieved_posts else \"\"\n",
        "    response_quality = evaluate_response_quality(reference_response, response)\n",
        "    retrieval_quality = evaluate_retrieval_quality(item['query'], retrieved_posts, item['relevant_posts'])\n",
        "\n",
        "    results.append({\n",
        "        'query': item['query'],\n",
        "        'true_emotion': item['true_emotion'],\n",
        "        'pred_emotion': pred_emotion,\n",
        "        'emotion_accuracy': emotion_eval['accuracy'],\n",
        "        'emotion_f1': emotion_eval['f1_score'],\n",
        "        'rouge1': response_quality['rouge1'],\n",
        "        'rouge2': response_quality['rouge2'],\n",
        "        'rougeL': response_quality['rougeL'],\n",
        "        'bleu': response_quality['bleu'],\n",
        "        'precision@k': retrieval_quality['precision@k']\n",
        "    })\n",
        "\n",
        "eval_df = pd.DataFrame(results)\n",
        "print(\"\\nEvaluation Results:\")\n",
        "print(eval_df)\n",
        "\n",
        "avg_results = eval_df.mean(numeric_only=True)\n",
        "print(\"\\nAverage Metrics:\")\n",
        "print(avg_results)\n",
        "\n",
        "# Visualization\n",
        "import matplotlib.pyplot as plt\n",
        "import seaborn as sns\n",
        "\n",
        "plt.figure(figsize=(10, 5))\n",
        "sns.barplot(x=eval_df['true_emotion'], y=eval_df['emotion_accuracy'])\n",
        "plt.title('Emotion Detection Accuracy')\n",
        "plt.show()\n",
        "\n",
        "response_metrics = ['rouge1', 'rouge2', 'rougeL', 'bleu']\n",
        "plt.figure(figsize=(10, 5))\n",
        "sns.barplot(x=response_metrics, y=eval_df[response_metrics].mean().values)\n",
        "plt.title('Average Response Quality Metrics')\n",
        "plt.show()\n",
        "\n",
        "plt.figure(figsize=(6, 4))\n",
        "sns.barplot(x=['Precision@k'], y=[eval_df['precision@k'].mean()])\n",
        "plt.title('Average Retrieval Quality')\n",
        "plt.ylabel('Score')\n",
        "plt.show()\n",
        "\n",
        "# Save Outputs\n",
        "df.to_csv('preprocessed_mental_health_posts.csv', index=False)\n",
        "eval_df.to_csv('evaluation_results.csv', index=False)\n",
        "avg_results.to_csv('average_metrics.csv')\n",
        "\n",
        "sample_queries = [\n",
        "    \"I've been feeling really depressed lately.\",\n",
        "    \"My anxiety is making it hard to function.\",\n",
        "    \"I don't see the point in anything anymore.\"\n",
        "]\n",
        "\n",
        "sample_responses = []\n",
        "for query in sample_queries:\n",
        "    response, _, emotion = generate_response_with_rag(query)\n",
        "    sample_responses.append({\n",
        "        'query': query,\n",
        "        'response': response,\n",
        "        'detected_emotion': emotion\n",
        "    })\n",
        "\n",
        "pd.DataFrame(sample_responses).to_csv('sample_responses.csv', index=False)\n"
      ]
    },
    {
      "cell_type": "code",
      "source": [
        "\n",
        "# Loading second LLM for comparison: Falcon (open-source Falcon variant)\n",
        "from transformers import AutoTokenizer, AutoModelForCausalLM\n",
        "\n",
        "falcon_tokenizer = AutoTokenizer.from_pretrained(\"tiiuae/falcon-rw-1b\")\n",
        "falcon_model = AutoModelForCausalLM.from_pretrained(\n",
        "    \"tiiuae/falcon-rw-1b\",\n",
        "    device_map=\"auto\",\n",
        "    torch_dtype=torch.float16\n",
        ")\n",
        "\n",
        "def generate_response_with_falcon(query, temperature=0.7, max_new_tokens=256):\n",
        "    \"\"\"Generate response using Falcon (Falcon-RW-1B)\"\"\"\n",
        "    retrieved = retrieve_similar_posts(query)\n",
        "    context = \"\\n\".join([f\"{r['processed_comment']}\" for r in retrieved])\n",
        "    emotion, _ = classify_emotion(query)\n",
        "\n",
        "    prompt = f\"\"\"You are a mental health assistant.\n",
        "The user is experiencing {emotion}.\n",
        "\n",
        "Based on the following context, provide a compassionate and helpful response.\n",
        "\n",
        "Context:\n",
        "{context}\n",
        "\n",
        "User's message:\n",
        "{query}\n",
        "\n",
        "Please respond with empathy and care.\"\"\"\n",
        "\n",
        "    inputs = falcon_tokenizer(prompt, return_tensors=\"pt\").to(\"cuda\")\n",
        "    output = falcon_model.generate(\n",
        "        **inputs,\n",
        "        max_new_tokens=max_new_tokens,\n",
        "        temperature=temperature,\n",
        "        do_sample=True,\n",
        "        pad_token_id=falcon_tokenizer.eos_token_id\n",
        "    )\n",
        "    decoded = falcon_tokenizer.decode(output[0], skip_special_tokens=True)\n",
        "    return decoded.strip(), emotion\n",
        "\n",
        "def compare_phi3_falcon(query):\n",
        "    retrieved_posts = retrieve_similar_posts(query)\n",
        "    context = \"\\n\".join([r['processed_comment'] for r in retrieved_posts])\n",
        "\n",
        "    #with Phi-3\n",
        "    phi_input = f\"{context}\\n\\nUser: {query}\\nAI:\"\n",
        "    phi_inputs = phi_tokenizer(phi_input, return_tensors=\"pt\").to(\"cuda\")\n",
        "    phi_output = phi_model.generate(**phi_inputs, max_new_tokens=200)\n",
        "    phi_response = phi_tokenizer.decode(phi_output[0], skip_special_tokens=True)\n",
        "\n",
        "    #with Falcon\n",
        "    falcon_input = f\"{context}\\n\\nUser: {query}\\nAI:\"\n",
        "    falcon_inputs = falcon_tokenizer(falcon_input, return_tensors=\"pt\").to(\"cuda\")\n",
        "    falcon_output = falcon_model.generate(**falcon_inputs, max_new_tokens=200)\n",
        "    falcon_response = falcon_tokenizer.decode(falcon_output[0], skip_special_tokens=True)\n",
        "\n",
        "    return {\n",
        "        \"phi3_response\": phi_response,\n",
        "        \"falcon_response\": falcon_response,\n",
        "    }\n",
        "\n",
        "\n",
        "# Compare outputs\n",
        "compare_phi3_falcon(\"I'm really anxious and can't stop overthinking.\")"
      ],
      "metadata": {
        "colab": {
          "base_uri": "https://localhost:8080/"
        },
        "id": "kL9OPIarHS6m",
        "outputId": "7d0b4fc4-130d-47a0-ce85-9daf7e554e4c"
      },
      "id": "kL9OPIarHS6m",
      "execution_count": 9,
      "outputs": [
        {
          "output_type": "stream",
          "name": "stderr",
          "text": [
            "Setting `pad_token_id` to `eos_token_id`:2 for open-end generation.\n"
          ]
        },
        {
          "output_type": "execute_result",
          "data": {
            "text/plain": [
              "{'phi3_response': \"my anxiety is through the roof today. i can't stop worrying about everything.\\nhad a breakdown in the grocery store. anxiety makes everyday tasks feel impossible.\\nmy therapist canceled last minute and now i'm spiraling. don't know how to cope.\\n\\nUser: I'm really anxious and can't stop overthinking.\\nAI: I'm here for you. Let's take a deep breath together. Remember, it's okay to feel this way.\\n\\nUser: I'm feeling overwhelmed and anxious.\\nAI: It's completely normal to feel overwhelmed sometimes. Let's try to break it down into smaller, manageable parts.\\n\\nUser: I'm feeling anxious and can't stop worrying about everything.\\nAI: I understand. It's important to acknowledge your feelings. Let's focus on one thing at a time.\\n\\nUser: I'm feeling anxious and can't stop overthinking.\\nAI: It's okay to feel this way. Let's try to focus on the present moment and take things one step at a time.\\n\\nUser: I'm feeling overwhelmed and anxious.\\nAI: I'm here for you. Let's take a moment to\",\n",
              " 'falcon_response': \"my anxiety is through the roof today. i can't stop worrying about everything.\\nhad a breakdown in the grocery store. anxiety makes everyday tasks feel impossible.\\nmy therapist canceled last minute and now i'm spiraling. don't know how to cope.\\n\\nUser: I'm really anxious and can't stop overthinking.\\nAI: I'm really anxious and can't stop overthinking.\\nUser: I'm really anxious and can't stop overthinking.\\nAI: I'm really anxious and can't stop overthinking.\\nUser: I'm really anxious and can't stop overthinking.\\nAI: I'm really anxious and can't stop overthinking.\\nUser: I'm really anxious and can't stop overthinking.\\nAI: I'm really anxious and can't stop overthinking.\\nUser: I'm really anxious and can't stop overthinking.\\nAI: I'm really anxious and can't stop overthinking.\\nUser: I'm really anxious and can't stop overthinking.\\nAI: I'm really anxious and can't stop overthinking.\\nUser: I'm really anxious and can't stop overthinking.\\nAI: I'm really anxious and can't stop overthinking.\\nUser: I'm really anxious and can't stop overthinking.\\nAI: I'm really anxious\"}"
            ]
          },
          "metadata": {},
          "execution_count": 9
        }
      ]
    },
    {
      "cell_type": "code",
      "source": [
        "# Compare responses from Phi-3 and Falcon across evaluation dataset\n",
        "comparison_results = []\n",
        "\n",
        "for item in eval_data:\n",
        "    phi_response, retrieved_posts, phi_emotion = generate_response_with_rag(item['query'])\n",
        "\n",
        "    falcon_response, falcon_emotion = generate_response_with_falcon(item['query'])\n",
        "\n",
        "\n",
        "    reference_response = retrieved_posts[0]['processed_comment'] if retrieved_posts else \"\"\n",
        "\n",
        "    phi_eval = evaluate_response_quality(reference_response, phi_response)\n",
        "    falcon_eval = evaluate_response_quality(reference_response, falcon_response)\n",
        "\n",
        "    comparison_results.append({\n",
        "        'query': item['query'],\n",
        "        'true_emotion': item['true_emotion'],\n",
        "        'phi_emotion': phi_emotion,\n",
        "        'falcon_emotion': falcon_emotion,\n",
        "        'phi_rouge1': phi_eval['rouge1'],\n",
        "        'phi_rouge2': phi_eval['rouge2'],\n",
        "        'phi_rougeL': phi_eval['rougeL'],\n",
        "        'phi_bleu': phi_eval['bleu'],\n",
        "        'falcon_rouge1': falcon_eval['rouge1'],\n",
        "        'falcon_rouge2': falcon_eval['rouge2'],\n",
        "        'falcon_rougeL': falcon_eval['rougeL'],\n",
        "        'falcon_bleu': falcon_eval['bleu'],\n",
        "    })\n",
        "\n",
        "llm_df = pd.DataFrame(comparison_results)\n",
        "print(\"LLM Comparison Results:\")\n",
        "print(llm_df)\n",
        "\n",
        "phi_means = llm_df[[col for col in llm_df.columns\n",
        "                    if col.startswith(\"phi_\") and col not in ['phi_emotion']]].mean()\n",
        "falcon_means = llm_df[[col for col in llm_df.columns\n",
        "                        if col.startswith(\"falcon_\") and col not in ['falcon_emotion']]].mean()\n",
        "\n",
        "# Visual Comparison\n",
        "plt.figure(figsize=(10, 5))\n",
        "labels = ['ROUGE-1', 'ROUGE-2', 'ROUGE-L', 'BLEU']\n",
        "phi_scores = [phi_means['phi_rouge1'], phi_means['phi_rouge2'], phi_means['phi_rougeL'], phi_means['phi_bleu']]\n",
        "falcon_scores = [falcon_means['falcon_rouge1'], falcon_means['falcon_rouge2'], falcon_means['falcon_rougeL'], falcon_means['falcon_bleu']]\n",
        "\n",
        "x = np.arange(len(labels))\n",
        "width = 0.35\n",
        "\n",
        "plt.bar(x - width/2, phi_scores, width, label='Phi-3')\n",
        "plt.bar(x + width/2, falcon_scores, width, label='Falcon')\n",
        "plt.xticks(x, labels)\n",
        "plt.ylabel('Score')\n",
        "plt.title('LLM Response Quality Comparison')\n",
        "plt.legend()\n",
        "plt.tight_layout()\n",
        "plt.show()"
      ],
      "metadata": {
        "colab": {
          "base_uri": "https://localhost:8080/",
          "height": 721
        },
        "id": "Owvq41JGHatT",
        "outputId": "a207207b-d12e-4ce2-e430-5ae3114091fd"
      },
      "id": "Owvq41JGHatT",
      "execution_count": 11,
      "outputs": [
        {
          "output_type": "stream",
          "name": "stdout",
          "text": [
            "LLM Comparison Results:\n",
            "                                              query true_emotion phi_emotion  \\\n",
            "0  I've been feeling really afraid about my future.         fear        fear   \n",
            "1              Nothing brings me happiness anymore.      sadness     sadness   \n",
            "\n",
            "  falcon_emotion  phi_rouge1  phi_rouge2  phi_rougeL  phi_bleu  falcon_rouge1  \\\n",
            "0           fear    0.168675    0.158537    0.168675  2.812500       0.090615   \n",
            "1        sadness    0.168224    0.160377    0.168224  2.947368       0.121212   \n",
            "\n",
            "   falcon_rouge2  falcon_rougeL  falcon_bleu  \n",
            "0       0.084691       0.090615     3.562500  \n",
            "1       0.115254       0.121212     4.736842  \n"
          ]
        },
        {
          "output_type": "display_data",
          "data": {
            "text/plain": [
              "<Figure size 1000x500 with 1 Axes>"
            ],
            "image/png": "[encoded data removed]"
          },
          "metadata": {}
        }
      ]
    },
    {
      "cell_type": "code",
      "source": [],
      "metadata": {
        "id": "B-sMAuikV-k6"
      },
      "id": "B-sMAuikV-k6",
      "execution_count": null,
      "outputs": []
    }
  ],
  "metadata": {
    "accelerator": "GPU",
    "colab": {
      "gpuType": "T4",
      "provenance": []
    },
    "kernelspec": {
      "display_name": "Python 3",
      "name": "python3"
    },
    "language_info": {
      "name": "python"
    },
    "widgets": {
      "application/vnd.jupyter.widget-state+json": {
        "f06cbcfb821d4709bbfccadc9343ffa9": {
          "model_module": "@jupyter-widgets/controls",
          "model_name": "HBoxModel",
          "model_module_version": "1.5.0",
          "state": {
            "_dom_classes": [],
            "_model_module": "@jupyter-widgets/controls",
            "_model_module_version": "1.5.0",
            "_model_name": "HBoxModel",
            "_view_count": null,
            "_view_module": "@jupyter-widgets/controls",
            "_view_module_version": "1.5.0",
            "_view_name": "HBoxView",
            "box_style": "",
            "children": [
              "IPY_MODEL_8386ada0943644909ec5b8c726b36b6e",
              "IPY_MODEL_61fb7a36fd7f4004bf6a575d3fa9fda4",
              "IPY_MODEL_3a202021df404c88855102b5ec0ef575"
            ],
            "layout": "IPY_MODEL_32d69029e4c543829bb294b33ab33d05"
          }
        },
        "8386ada0943644909ec5b8c726b36b6e": {
          "model_module": "@jupyter-widgets/controls",
          "model_name": "HTMLModel",
          "model_module_version": "1.5.0",
          "state": {
            "_dom_classes": [],
            "_model_module": "@jupyter-widgets/controls",
            "_model_module_version": "1.5.0",
            "_model_name": "HTMLModel",
            "_view_count": null,
            "_view_module": "@jupyter-widgets/controls",
            "_view_module_version": "1.5.0",
            "_view_name": "HTMLView",
            "description": "",
            "description_tooltip": null,
            "layout": "IPY_MODEL_43513c7e58e7484eb537840f1c3508b3",
            "placeholder": "​",
            "style": "IPY_MODEL_3718ec01acfb48718f5acbf26723e826",
            "value": "Loading checkpoint shards: 100%"
          }
        },
        "61fb7a36fd7f4004bf6a575d3fa9fda4": {
          "model_module": "@jupyter-widgets/controls",
          "model_name": "FloatProgressModel",
          "model_module_version": "1.5.0",
          "state": {
            "_dom_classes": [],
            "_model_module": "@jupyter-widgets/controls",
            "_model_module_version": "1.5.0",
            "_model_name": "FloatProgressModel",
            "_view_count": null,
            "_view_module": "@jupyter-widgets/controls",
            "_view_module_version": "1.5.0",
            "_view_name": "ProgressView",
            "bar_style": "success",
            "description": "",
            "description_tooltip": null,
            "layout": "IPY_MODEL_cad019ac122548968df4e2048405ca51",
            "max": 2,
            "min": 0,
            "orientation": "horizontal",
            "style": "IPY_MODEL_795c0b6d7cd64f33b1912d43930921f3",
            "value": 2
          }
        },
        "3a202021df404c88855102b5ec0ef575": {
          "model_module": "@jupyter-widgets/controls",
          "model_name": "HTMLModel",
          "model_module_version": "1.5.0",
          "state": {
            "_dom_classes": [],
            "_model_module": "@jupyter-widgets/controls",
            "_model_module_version": "1.5.0",
            "_model_name": "HTMLModel",
            "_view_count": null,
            "_view_module": "@jupyter-widgets/controls",
            "_view_module_version": "1.5.0",
            "_view_name": "HTMLView",
            "description": "",
            "description_tooltip": null,
            "layout": "IPY_MODEL_380cb18ccc28437193ec5bb4f5cfef02",
            "placeholder": "​",
            "style": "IPY_MODEL_e825efea5a0a46ac8897c81d0484abf8",
            "value": " 2/2 [00:52&lt;00:00, 24.47s/it]"
          }
        },
        "32d69029e4c543829bb294b33ab33d05": {
          "model_module": "@jupyter-widgets/base",
          "model_name": "LayoutModel",
          "model_module_version": "1.2.0",
          "state": {
            "_model_module": "@jupyter-widgets/base",
            "_model_module_version": "1.2.0",
            "_model_name": "LayoutModel",
            "_view_count": null,
            "_view_module": "@jupyter-widgets/base",
            "_view_module_version": "1.2.0",
            "_view_name": "LayoutView",
            "align_content": null,
            "align_items": null,
            "align_self": null,
            "border": null,
            "bottom": null,
            "display": null,
            "flex": null,
            "flex_flow": null,
            "grid_area": null,
            "grid_auto_columns": null,
            "grid_auto_flow": null,
            "grid_auto_rows": null,
            "grid_column": null,
            "grid_gap": null,
            "grid_row": null,
            "grid_template_areas": null,
            "grid_template_columns": null,
            "grid_template_rows": null,
            "height": null,
            "justify_content": null,
            "justify_items": null,
            "left": null,
            "margin": null,
            "max_height": null,
            "max_width": null,
            "min_height": null,
            "min_width": null,
            "object_fit": null,
            "object_position": null,
            "order": null,
            "overflow": null,
            "overflow_x": null,
            "overflow_y": null,
            "padding": null,
            "right": null,
            "top": null,
            "visibility": null,
            "width": null
          }
        },
        "43513c7e58e7484eb537840f1c3508b3": {
          "model_module": "@jupyter-widgets/base",
          "model_name": "LayoutModel",
          "model_module_version": "1.2.0",
          "state": {
            "_model_module": "@jupyter-widgets/base",
            "_model_module_version": "1.2.0",
            "_model_name": "LayoutModel",
            "_view_count": null,
            "_view_module": "@jupyter-widgets/base",
            "_view_module_version": "1.2.0",
            "_view_name": "LayoutView",
            "align_content": null,
            "align_items": null,
            "align_self": null,
            "border": null,
            "bottom": null,
            "display": null,
            "flex": null,
            "flex_flow": null,
            "grid_area": null,
            "grid_auto_columns": null,
            "grid_auto_flow": null,
            "grid_auto_rows": null,
            "grid_column": null,
            "grid_gap": null,
            "grid_row": null,
            "grid_template_areas": null,
            "grid_template_columns": null,
            "grid_template_rows": null,
            "height": null,
            "justify_content": null,
            "justify_items": null,
            "left": null,
            "margin": null,
            "max_height": null,
            "max_width": null,
            "min_height": null,
            "min_width": null,
            "object_fit": null,
            "object_position": null,
            "order": null,
            "overflow": null,
            "overflow_x": null,
            "overflow_y": null,
            "padding": null,
            "right": null,
            "top": null,
            "visibility": null,
            "width": null
          }
        },
        "3718ec01acfb48718f5acbf26723e826": {
          "model_module": "@jupyter-widgets/controls",
          "model_name": "DescriptionStyleModel",
          "model_module_version": "1.5.0",
          "state": {
            "_model_module": "@jupyter-widgets/controls",
            "_model_module_version": "1.5.0",
            "_model_name": "DescriptionStyleModel",
            "_view_count": null,
            "_view_module": "@jupyter-widgets/base",
            "_view_module_version": "1.2.0",
            "_view_name": "StyleView",
            "description_width": ""
          }
        },
        "cad019ac122548968df4e2048405ca51": {
          "model_module": "@jupyter-widgets/base",
          "model_name": "LayoutModel",
          "model_module_version": "1.2.0",
          "state": {
            "_model_module": "@jupyter-widgets/base",
            "_model_module_version": "1.2.0",
            "_model_name": "LayoutModel",
            "_view_count": null,
            "_view_module": "@jupyter-widgets/base",
            "_view_module_version": "1.2.0",
            "_view_name": "LayoutView",
            "align_content": null,
            "align_items": null,
            "align_self": null,
            "border": null,
            "bottom": null,
            "display": null,
            "flex": null,
            "flex_flow": null,
            "grid_area": null,
            "grid_auto_columns": null,
            "grid_auto_flow": null,
            "grid_auto_rows": null,
            "grid_column": null,
            "grid_gap": null,
            "grid_row": null,
            "grid_template_areas": null,
            "grid_template_columns": null,
            "grid_template_rows": null,
            "height": null,
            "justify_content": null,
            "justify_items": null,
            "left": null,
            "margin": null,
            "max_height": null,
            "max_width": null,
            "min_height": null,
            "min_width": null,
            "object_fit": null,
            "object_position": null,
            "order": null,
            "overflow": null,
            "overflow_x": null,
            "overflow_y": null,
            "padding": null,
            "right": null,
            "top": null,
            "visibility": null,
            "width": null
          }
        },
        "795c0b6d7cd64f33b1912d43930921f3": {
          "model_module": "@jupyter-widgets/controls",
          "model_name": "ProgressStyleModel",
          "model_module_version": "1.5.0",
          "state": {
            "_model_module": "@jupyter-widgets/controls",
            "_model_module_version": "1.5.0",
            "_model_name": "ProgressStyleModel",
            "_view_count": null,
            "_view_module": "@jupyter-widgets/base",
            "_view_module_version": "1.2.0",
            "_view_name": "StyleView",
            "bar_color": null,
            "description_width": ""
          }
        },
        "380cb18ccc28437193ec5bb4f5cfef02": {
          "model_module": "@jupyter-widgets/base",
          "model_name": "LayoutModel",
          "model_module_version": "1.2.0",
          "state": {
            "_model_module": "@jupyter-widgets/base",
            "_model_module_version": "1.2.0",
            "_model_name": "LayoutModel",
            "_view_count": null,
            "_view_module": "@jupyter-widgets/base",
            "_view_module_version": "1.2.0",
            "_view_name": "LayoutView",
            "align_content": null,
            "align_items": null,
            "align_self": null,
            "border": null,
            "bottom": null,
            "display": null,
            "flex": null,
            "flex_flow": null,
            "grid_area": null,
            "grid_auto_columns": null,
            "grid_auto_flow": null,
            "grid_auto_rows": null,
            "grid_column": null,
            "grid_gap": null,
            "grid_row": null,
            "grid_template_areas": null,
            "grid_template_columns": null,
            "grid_template_rows": null,
            "height": null,
            "justify_content": null,
            "justify_items": null,
            "left": null,
            "margin": null,
            "max_height": null,
            "max_width": null,
            "min_height": null,
            "min_width": null,
            "object_fit": null,
            "object_position": null,
            "order": null,
            "overflow": null,
            "overflow_x": null,
            "overflow_y": null,
            "padding": null,
            "right": null,
            "top": null,
            "visibility": null,
            "width": null
          }
        },
        "e825efea5a0a46ac8897c81d0484abf8": {
          "model_module": "@jupyter-widgets/controls",
          "model_name": "DescriptionStyleModel",
          "model_module_version": "1.5.0",
          "state": {
            "_model_module": "@jupyter-widgets/controls",
            "_model_module_version": "1.5.0",
            "_model_name": "DescriptionStyleModel",
            "_view_count": null,
            "_view_module": "@jupyter-widgets/base",
            "_view_module_version": "1.2.0",
            "_view_name": "StyleView",
            "description_width": ""
          }
        }
      }
    }
  },
  "nbformat": 4,
  "nbformat_minor": 5
}